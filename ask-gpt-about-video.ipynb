{
 "cells": [
  {
   "cell_type": "markdown",
   "id": "0ef499e1-cbd8-4dd8-8874-7e382daa4785",
   "metadata": {},
   "source": [
    "Ask GPT questions for one youtube video -- code doesn't perform well for large database. Working on building this out."
   ]
  },
  {
   "cell_type": "markdown",
   "id": "9dc99768-6f65-4989-971c-ed41394ec2b1",
   "metadata": {
    "tags": []
   },
   "source": [
    "### Imports"
   ]
  },
  {
   "cell_type": "code",
   "execution_count": 4,
   "id": "234145e7-5b73-495e-93bf-844182e49600",
   "metadata": {
    "tags": []
   },
   "outputs": [
    {
     "data": {
      "text/plain": [
       "True"
      ]
     },
     "execution_count": 4,
     "metadata": {},
     "output_type": "execute_result"
    }
   ],
   "source": [
    "from dotenv import load_dotenv # add this line\n",
    "import os\n",
    "load_dotenv()"
   ]
  },
  {
   "cell_type": "code",
   "execution_count": 5,
   "id": "7cbe5f89-c7cc-4b6a-a580-76890291d536",
   "metadata": {
    "tags": []
   },
   "outputs": [
    {
     "name": "stderr",
     "output_type": "stream",
     "text": [
      "/Users/kitanademidun/anaconda3/envs/wordtoobe/lib/python3.11/site-packages/tqdm/auto.py:21: TqdmWarning: IProgress not found. Please update jupyter and ipywidgets. See https://ipywidgets.readthedocs.io/en/stable/user_install.html\n",
      "  from .autonotebook import tqdm as notebook_tqdm\n"
     ]
    }
   ],
   "source": [
    "# Import libraries\n",
    "from langchain.text_splitter import RecursiveCharacterTextSplitter\n",
    "from langchain.chat_models import ChatOpenAI\n",
    "import os\n",
    "from langchain.vectorstores import Chroma\n",
    "from langchain.embeddings import OpenAIEmbeddings\n",
    "from langchain.llms import OpenAI\n",
    "from langchain.chains import RetrievalQA\n",
    "from langchain.document_loaders import DirectoryLoader\n",
    "\n",
    "from sentence_transformers import SentenceTransformer, util\n",
    "import torch"
   ]
  },
  {
   "cell_type": "markdown",
   "id": "d38ff984-5b51-403f-ab6b-6daac553a9b6",
   "metadata": {
    "tags": []
   },
   "source": [
    "### Convert the transcripts into text files"
   ]
  },
  {
   "cell_type": "code",
   "execution_count": 6,
   "id": "f07727f2-6dc6-4ef3-b812-149fc6d89bf4",
   "metadata": {
    "tags": []
   },
   "outputs": [],
   "source": [
    "import firebase_admin\n",
    "from firebase_admin import credentials\n",
    "from firebase_admin import firestore\n",
    "\n",
    "# Use a service account.\n",
    "cred = credentials.Certificate('{}.json'.format(os.getenv('PROJECT_ID')))\n",
    "\n",
    "app = firebase_admin.initialize_app(cred)\n",
    "\n",
    "db = firestore.client(app)\n",
    "batch = db.batch()"
   ]
  },
  {
   "cell_type": "markdown",
   "id": "b10912b5-c29f-44e7-a640-b50e163b1a67",
   "metadata": {
    "tags": []
   },
   "source": [
    "#### One-time: get the transcripts"
   ]
  },
  {
   "cell_type": "code",
   "execution_count": 7,
   "id": "e91027b8-2bc5-494e-bf55-dcf12d13f470",
   "metadata": {
    "tags": []
   },
   "outputs": [],
   "source": [
    "channelId = \"UCamLstJyCa-t5gfZegxsFMw\""
   ]
  },
  {
   "cell_type": "code",
   "execution_count": 8,
   "id": "945ecbec-0d04-41c1-b291-3acff31a15da",
   "metadata": {
    "tags": []
   },
   "outputs": [],
   "source": [
    "# load the transcript text and source from data base\n",
    "docs_generator = db.collection(u\"WhisperTranscriptions\").where(u\"channelId\",u\"==\",u\"{}\".format(channelId)).stream()\n",
    "docs = [doc for doc in docs_generator]"
   ]
  },
  {
   "cell_type": "code",
   "execution_count": 9,
   "id": "cb33df46-ec9b-4779-af3c-fbcf1e7f8d10",
   "metadata": {
    "tags": []
   },
   "outputs": [],
   "source": [
    "texts = [ doc.to_dict()['text'] for doc in docs if len(doc.to_dict()['text']) > 0 ]\n",
    "metadatas = [ {'source':doc.to_dict()['videoId']+'.txt'}  for doc in docs if len(doc.to_dict()['text']) > 0  ]"
   ]
  },
  {
   "cell_type": "code",
   "execution_count": 10,
   "id": "a9dbaa41-89b0-4f7b-b681-11de11132454",
   "metadata": {
    "tags": []
   },
   "outputs": [],
   "source": [
    "for text,metadata in zip(texts,metadatas):    \n",
    "    f = open(\"files/\"+metadata['source'],\"w+\")\n",
    "    f.write(text)\n",
    "    f.close()"
   ]
  },
  {
   "cell_type": "markdown",
   "id": "81786248-5622-4f75-a8f8-624a36b68ff4",
   "metadata": {},
   "source": [
    "Ask question to a video"
   ]
  },
  {
   "cell_type": "code",
   "execution_count": 17,
   "id": "7d5d6e8c-c74a-4545-b647-a7fa0468384a",
   "metadata": {
    "tags": []
   },
   "outputs": [],
   "source": [
    "video_id = \"fyt-E1A-jwc\""
   ]
  },
  {
   "cell_type": "code",
   "execution_count": 18,
   "id": "2bd4b8e9-25c7-46c7-96ea-46a8a992fbcf",
   "metadata": {
    "tags": []
   },
   "outputs": [
    {
     "data": {
      "text/plain": [
       "1"
      ]
     },
     "execution_count": 18,
     "metadata": {},
     "output_type": "execute_result"
    }
   ],
   "source": [
    "loader = DirectoryLoader('files', glob=\"./\"+video_id+\".txt\")\n",
    "files = loader.load ( )\n",
    "len(files)"
   ]
  },
  {
   "cell_type": "code",
   "execution_count": 19,
   "id": "5f9aa4cd-00ef-4fa0-9d2b-dd08717fd143",
   "metadata": {
    "tags": []
   },
   "outputs": [],
   "source": [
    "from langchain.text_splitter import CharacterTextSplitter\n",
    "text_splitter = CharacterTextSplitter(chunk_size=15000, chunk_overlap=200)\n",
    "documents = text_splitter.create_documents(texts, metadatas=metadatas)\n",
    "split_documents = text_splitter.split_documents(files)"
   ]
  },
  {
   "cell_type": "code",
   "execution_count": 20,
   "id": "a19d0b96-af1e-4c4a-af88-cbe59afea1e8",
   "metadata": {
    "tags": []
   },
   "outputs": [
    {
     "data": {
      "text/plain": [
       "2"
      ]
     },
     "execution_count": 20,
     "metadata": {},
     "output_type": "execute_result"
    }
   ],
   "source": [
    "len(split_documents)"
   ]
  },
  {
   "cell_type": "code",
   "execution_count": 21,
   "id": "d8722c4e-7652-4d77-86c4-bfb57c0e764f",
   "metadata": {
    "tags": []
   },
   "outputs": [],
   "source": [
    "embedding = OpenAIEmbeddings()"
   ]
  },
  {
   "cell_type": "code",
   "execution_count": 22,
   "id": "982f229a-e532-429e-b9bb-6cd600207394",
   "metadata": {
    "tags": []
   },
   "outputs": [
    {
     "name": "stdout",
     "output_type": "stream",
     "text": [
      "complete\n"
     ]
    }
   ],
   "source": [
    "vectordb= None\n",
    "persist_directory = 'one_file'\n",
    "vectordb = Chroma.from_documents(documents=split_documents,\n",
    "                                 embedding=embedding,\n",
    "                                 persist_directory=persist_directory\n",
    "                                )\n",
    "\n",
    "\n",
    "print(\"complete\")\n",
    "# vectordb.persist()"
   ]
  },
  {
   "cell_type": "code",
   "execution_count": 23,
   "id": "d34814a3-0e09-41ca-96fc-cf5883fcd729",
   "metadata": {
    "tags": []
   },
   "outputs": [],
   "source": [
    "retriever = vectordb.as_retriever(search_kwargs={\"k\": 1})"
   ]
  },
  {
   "cell_type": "code",
   "execution_count": 24,
   "id": "d820e410-7662-4523-a249-b3ee19f9740c",
   "metadata": {
    "tags": []
   },
   "outputs": [],
   "source": [
    "chat_model = ChatOpenAI(temperature=0, model_name='gpt-4')\n",
    "\n",
    "qa_chain = RetrievalQA.from_chain_type(\n",
    "    llm=chat_model,\n",
    "    chain_type=\"stuff\",\n",
    "    retriever=retriever,\n",
    "    return_source_documents=True,\n",
    "    verbose=True\n",
    ")\n",
    "\n",
    "\n",
    "def process_llm_response(llm_response):\n",
    "    print(llm_response['result'])\n",
    "    print('\\n\\nSources:')\n",
    "    for source in llm_response[\"source_documents\"]:\n",
    "        print(source.metadata['source'])"
   ]
  },
  {
   "cell_type": "code",
   "execution_count": 25,
   "id": "8800ad0a-0f29-4687-b49b-58d030e8e40f",
   "metadata": {
    "tags": []
   },
   "outputs": [
    {
     "name": "stdout",
     "output_type": "stream",
     "text": [
      "\n",
      "\n",
      "\u001b[1m> Entering new RetrievalQA chain...\u001b[0m\n",
      "\n",
      "\u001b[1m> Finished chain.\u001b[0m\n",
      "The creator brands/products mentioned in the text are:\n",
      "\n",
      "1. David Dobryx's new frozen pizza line\n",
      "2. ChamberlainCoffee.com\n",
      "3. Silly Juice from the Ace Family\n",
      "4. Ani Energy from the Sway Boys\n",
      "5. JoJo C.1 Ice Cream\n",
      "6. Father Foods from Kelsey Calamine\n",
      "\n",
      "\n",
      "Sources:\n",
      "files/fyt-E1A-jwc.txt\n"
     ]
    }
   ],
   "source": [
    "query = \"Based on the text, name all the creator brands / products launched?\"\n",
    "llm_response = qa_chain(query)\n",
    "process_llm_response(llm_response)"
   ]
  }
 ],
 "metadata": {
  "kernelspec": {
   "display_name": "Python 3 (ipykernel)",
   "language": "python",
   "name": "python3"
  },
  "language_info": {
   "codemirror_mode": {
    "name": "ipython",
    "version": 3
   },
   "file_extension": ".py",
   "mimetype": "text/x-python",
   "name": "python",
   "nbconvert_exporter": "python",
   "pygments_lexer": "ipython3",
   "version": "3.11.4"
  }
 },
 "nbformat": 4,
 "nbformat_minor": 5
}

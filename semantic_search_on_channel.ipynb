{
 "cells": [
  {
   "cell_type": "markdown",
   "metadata": {
    "id": "aVGeVjP7R2MR"
   },
   "source": [
    "### Import Packages"
   ]
  },
  {
   "cell_type": "code",
   "execution_count": 1,
   "metadata": {
    "colab": {
     "base_uri": "https://localhost:8080/",
     "height": 357
    },
    "id": "d1BO8DPpaMIu",
    "outputId": "24cd7ab3-8053-4aa5-ddbd-1b87927116f0",
    "tags": []
   },
   "outputs": [
    {
     "data": {
      "text/plain": [
       "True"
      ]
     },
     "execution_count": 1,
     "metadata": {},
     "output_type": "execute_result"
    }
   ],
   "source": [
    "from dotenv import load_dotenv # add this line\n",
    "load_dotenv()"
   ]
  },
  {
   "cell_type": "code",
   "execution_count": 2,
   "metadata": {
    "id": "PVh8Xf_DR2Ma",
    "tags": []
   },
   "outputs": [],
   "source": [
    "import time"
   ]
  },
  {
   "cell_type": "code",
   "execution_count": 3,
   "metadata": {
    "id": "BxUkAv3qR2Mb",
    "tags": []
   },
   "outputs": [],
   "source": [
    "import os\n",
    "import googleapiclient.discovery\n",
    "import urllib.parse as p\n",
    "import pandas as pd\n",
    "import json\n",
    "import subprocess\n",
    "import requests\n",
    "import re"
   ]
  },
  {
   "cell_type": "markdown",
   "metadata": {
    "id": "skCAMe90R2Mc"
   },
   "source": [
    "### Set-up APIs & Variables"
   ]
  },
  {
   "cell_type": "markdown",
   "metadata": {
    "id": "fe3c0pvkR2Mf"
   },
   "source": [
    "load enviroment variables."
   ]
  },
  {
   "cell_type": "code",
   "execution_count": 4,
   "metadata": {
    "colab": {
     "base_uri": "https://localhost:8080/"
    },
    "id": "L8x6572hR2Mf",
    "outputId": "f908ad53-08c6-445c-8ba7-490ffdab22e7",
    "tags": []
   },
   "outputs": [
    {
     "data": {
      "text/plain": [
       "True"
      ]
     },
     "execution_count": 4,
     "metadata": {},
     "output_type": "execute_result"
    }
   ],
   "source": [
    "load_dotenv()"
   ]
  },
  {
   "cell_type": "markdown",
   "metadata": {
    "id": "ZSv2xRlBR2Me"
   },
   "source": [
    "Load firebase credentials."
   ]
  },
  {
   "cell_type": "code",
   "execution_count": 6,
   "metadata": {
    "id": "-NgUJHvCR2Me",
    "tags": []
   },
   "outputs": [],
   "source": [
    "import firebase_admin\n",
    "from firebase_admin import credentials\n",
    "from firebase_admin import firestore\n",
    "\n",
    "# Use a service account.\n",
    "cred = credentials.Certificate(os.getenv('PROJECT_ID')+'.json')\n",
    "\n",
    "app = firebase_admin.initialize_app(cred)\n",
    "\n",
    "db = firestore.client(app)\n",
    "batch = db.batch()"
   ]
  },
  {
   "cell_type": "markdown",
   "metadata": {
    "id": "U4HGQw5wWzyc"
   },
   "source": [
    "# Semantic Search"
   ]
  },
  {
   "cell_type": "code",
   "execution_count": 8,
   "metadata": {
    "id": "Ka1-r9TYUvby",
    "tags": []
   },
   "outputs": [
    {
     "name": "stderr",
     "output_type": "stream",
     "text": [
      "/Users/kitanademidun/anaconda3/envs/wordtoobe/lib/python3.11/site-packages/tqdm/auto.py:21: TqdmWarning: IProgress not found. Please update jupyter and ipywidgets. See https://ipywidgets.readthedocs.io/en/stable/user_install.html\n",
      "  from .autonotebook import tqdm as notebook_tqdm\n"
     ]
    }
   ],
   "source": [
    "from annoy import AnnoyIndex\n",
    "import pandas as pd\n",
    "from sentence_transformers import SentenceTransformer, util\n",
    "import torch\n",
    "\n",
    "embedder = SentenceTransformer('all-MiniLM-L6-v2')"
   ]
  },
  {
   "cell_type": "code",
   "execution_count": 10,
   "metadata": {
    "id": "16kQBeCWWpVX",
    "tags": []
   },
   "outputs": [],
   "source": [
    "def create_df_from_collection_list(collection,columns):\n",
    "    data = {}\n",
    "    for col in columns:\n",
    "        data[col] = [x[col] for x in collection]\n",
    "    df = pd.DataFrame(data=data)\n",
    "    return df\n",
    "\n",
    "\n",
    "def index_full_text(corpus, collection_index_tag=\"None\"):\n",
    "    s = time.time()\n",
    "    corpus_embeddings = embedder.encode(corpus, convert_to_tensor=True)\n",
    "    # Create the search index, pass the size of embedding\n",
    "    search_index = AnnoyIndex(corpus_embeddings.shape[1], 'angular')\n",
    "    # search_index.load('test.ann')\n",
    "    for i in range(len(corpus_embeddings)):\n",
    "        search_index.add_item(i, corpus_embeddings[i])\n",
    "    search_index.build(10) # 10 trees\n",
    "    search_index.save('test.ann')\n",
    "\n",
    "    print(\"Index time: \",s- time.time())\n",
    "    return search_index\n",
    "\n",
    "def query_corpus(query,search_index):\n",
    "    s = time.time()\n",
    "\n",
    "\n",
    "    # Get the query's embedding\n",
    "    query_embed = embedder.encode(query, convert_to_tensor=True)\n",
    "\n",
    "    # Retrieve the nearest neighbors\n",
    "    similar_item_ids = search_index.get_nns_by_vector(query_embed,10,\n",
    "                                                  include_distances=True)\n",
    "    print(\"Query time: \",s- time.time())\n",
    "\n",
    "    return similar_item_ids"
   ]
  },
  {
   "cell_type": "code",
   "execution_count": 11,
   "metadata": {
    "id": "OWYNeP95Ovej",
    "tags": []
   },
   "outputs": [],
   "source": [
    "def semantic_search_videos(query, collection,):\n",
    "\n",
    "    text_data = pd.DataFrame(collection)[[\"text\",\"videoId\",\"transcript\"]]\n",
    "    text_search_index = index_full_text(text_data['text'])\n",
    "\n",
    "    similar_item_ids = query_corpus(query,text_search_index )\n",
    "    # Format the results\n",
    "\n",
    "    results = pd.DataFrame(data={'texts': text_data.iloc[similar_item_ids[0]]['text'],\n",
    "                              'distance': similar_item_ids[1],\n",
    "                              'id': text_data.iloc[similar_item_ids[0]]['videoId'],\n",
    "                              'transcript': text_data.iloc[similar_item_ids[0]]['transcript']})\n",
    "\n",
    "    return results"
   ]
  },
  {
   "cell_type": "code",
   "execution_count": null,
   "metadata": {
    "id": "CxSKeDGSw7dS"
   },
   "outputs": [],
   "source": [
    "def semantic_search_keyword(query, collection):\n",
    "\n",
    "    list_of_transcript_dfs = []\n",
    "    for video in collection:\n",
    "\n",
    "\n",
    "        transcript = pd.DataFrame(video['transcript'])\n",
    "        transcript['videoId'] = video['videoId']\n",
    "        list_of_transcript_dfs.append(transcript)\n",
    "\n",
    "        \n",
    "    full_sent_data = pd.concat(list_of_transcript_dfs)\n",
    "    sent_data = full_sent_data[['text','id','videoId']]\n",
    "\n",
    "    sent_search_index = index_full_text(list(sent_data['text']))\n",
    "    similar_item_ids = query_corpus(query, sent_search_index)\n",
    "    sentence_results = pd.DataFrame(data={'text': sent_data.iloc[similar_item_ids[0]]['text'],\n",
    "                            'distance': similar_item_ids[1],\n",
    "                            'id': sent_data.iloc[similar_item_ids[0]]['id'],\n",
    "                            'videoId': sent_data.iloc[similar_item_ids[0]]['videoId']})\n",
    "\n",
    "    return sentence_results\n"
   ]
  },
  {
   "cell_type": "code",
   "execution_count": 12,
   "metadata": {
    "id": "pMOqauQzA1-L",
    "tags": []
   },
   "outputs": [],
   "source": [
    "def getTranscripts(channelId):\n",
    "    docs = db.collection(u'Transcripts').stream()\n",
    "\n",
    "    collection = []\n",
    "    for doc in docs:\n",
    "        vid =doc.to_dict()\n",
    "        # if \"#shorts\" not in vid['title']:\n",
    "        collection.append(vid)\n",
    "    return collection"
   ]
  },
  {
   "cell_type": "code",
   "execution_count": 14,
   "metadata": {
    "colab": {
     "base_uri": "https://localhost:8080/",
     "height": 398
    },
    "id": "_ZJWtZtPkhQb",
    "outputId": "27ffda1b-a013-4726-9283-ffd982c7bd5d",
    "tags": []
   },
   "outputs": [
    {
     "name": "stdout",
     "output_type": "stream",
     "text": [
      "Index time:  -3.059123992919922\n",
      "Query time:  -0.012986898422241211\n"
     ]
    },
    {
     "data": {
      "text/html": [
       "<div>\n",
       "<style scoped>\n",
       "    .dataframe tbody tr th:only-of-type {\n",
       "        vertical-align: middle;\n",
       "    }\n",
       "\n",
       "    .dataframe tbody tr th {\n",
       "        vertical-align: top;\n",
       "    }\n",
       "\n",
       "    .dataframe thead th {\n",
       "        text-align: right;\n",
       "    }\n",
       "</style>\n",
       "<table border=\"1\" class=\"dataframe\">\n",
       "  <thead>\n",
       "    <tr style=\"text-align: right;\">\n",
       "      <th></th>\n",
       "      <th>texts</th>\n",
       "      <th>distance</th>\n",
       "      <th>id</th>\n",
       "      <th>transcript</th>\n",
       "    </tr>\n",
       "  </thead>\n",
       "  <tbody>\n",
       "    <tr>\n",
       "      <th>47</th>\n",
       "      <td>We bought merch from a bunch of top creators ...</td>\n",
       "      <td>1.010816</td>\n",
       "      <td>YVuIm8OLz-8</td>\n",
       "      <td>[{'end': 6.04, 'start': 0.0, 'text': ' We boug...</td>\n",
       "    </tr>\n",
       "    <tr>\n",
       "      <th>14</th>\n",
       "      <td>What's up everyone, welcome to the Colin and ...</td>\n",
       "      <td>1.033572</td>\n",
       "      <td>9HsnKZnREgM</td>\n",
       "      <td>[{'start': 0.0, 'end': 2.36, 'text': ' What's ...</td>\n",
       "    </tr>\n",
       "    <tr>\n",
       "      <th>55</th>\n",
       "      <td>Today on the channel we'll be talking about e...</td>\n",
       "      <td>1.128185</td>\n",
       "      <td>f5WZgw0WGto</td>\n",
       "      <td>[{'start': 0.0, 'text': ' Today on the channel...</td>\n",
       "    </tr>\n",
       "    <tr>\n",
       "      <th>62</th>\n",
       "      <td>Back in the car, back when the other breakdow...</td>\n",
       "      <td>1.165087</td>\n",
       "      <td>i05bI03nzv4</td>\n",
       "      <td>[{'text': ' Back in the car, back when the oth...</td>\n",
       "    </tr>\n",
       "    <tr>\n",
       "      <th>43</th>\n",
       "      <td>What the hell do I do now? This is Andrew Ray...</td>\n",
       "      <td>1.165928</td>\n",
       "      <td>VbNIh88Nq5k</td>\n",
       "      <td>[{'end': 4.64, 'id': 0, 'start': 0.0, 'text': ...</td>\n",
       "    </tr>\n",
       "    <tr>\n",
       "      <th>1</th>\n",
       "      <td>I am shocked people are still watching my vid...</td>\n",
       "      <td>1.193080</td>\n",
       "      <td>1t5oYKEn-1E</td>\n",
       "      <td>[{'start': 0.0, 'end': 3.36, 'text': ' I am sh...</td>\n",
       "    </tr>\n",
       "    <tr>\n",
       "      <th>69</th>\n",
       "      <td>Big Cloud, it's out in the marker right now. ...</td>\n",
       "      <td>1.193215</td>\n",
       "      <td>knl2UOFr8bk</td>\n",
       "      <td>[{'text': ' Big Cloud, it's out in the marker ...</td>\n",
       "    </tr>\n",
       "    <tr>\n",
       "      <th>77</th>\n",
       "      <td>In the future, we think Mr. Beast will sell h...</td>\n",
       "      <td>1.212363</td>\n",
       "      <td>o8UBXsiiS24</td>\n",
       "      <td>[{'start': 0.0, 'end': 4.96, 'id': 0, 'text': ...</td>\n",
       "    </tr>\n",
       "    <tr>\n",
       "      <th>26</th>\n",
       "      <td>Two years ago, Mr. Beast and Mark Rover raise...</td>\n",
       "      <td>1.217704</td>\n",
       "      <td>JoI4BRPd8us</td>\n",
       "      <td>[{'id': 0, 'text': ' Two years ago, Mr. Beast ...</td>\n",
       "    </tr>\n",
       "    <tr>\n",
       "      <th>34</th>\n",
       "      <td>The Christie's auction for digital artist Bee...</td>\n",
       "      <td>1.220188</td>\n",
       "      <td>Ptk6P7Lc6rs</td>\n",
       "      <td>[{'id': 0, 'text': ' The Christie's auction fo...</td>\n",
       "    </tr>\n",
       "  </tbody>\n",
       "</table>\n",
       "</div>"
      ],
      "text/plain": [
       "                                                texts  distance           id  \\\n",
       "47   We bought merch from a bunch of top creators ...  1.010816  YVuIm8OLz-8   \n",
       "14   What's up everyone, welcome to the Colin and ...  1.033572  9HsnKZnREgM   \n",
       "55   Today on the channel we'll be talking about e...  1.128185  f5WZgw0WGto   \n",
       "62   Back in the car, back when the other breakdow...  1.165087  i05bI03nzv4   \n",
       "43   What the hell do I do now? This is Andrew Ray...  1.165928  VbNIh88Nq5k   \n",
       "1    I am shocked people are still watching my vid...  1.193080  1t5oYKEn-1E   \n",
       "69   Big Cloud, it's out in the marker right now. ...  1.193215  knl2UOFr8bk   \n",
       "77   In the future, we think Mr. Beast will sell h...  1.212363  o8UBXsiiS24   \n",
       "26   Two years ago, Mr. Beast and Mark Rover raise...  1.217704  JoI4BRPd8us   \n",
       "34   The Christie's auction for digital artist Bee...  1.220188  Ptk6P7Lc6rs   \n",
       "\n",
       "                                           transcript  \n",
       "47  [{'end': 6.04, 'start': 0.0, 'text': ' We boug...  \n",
       "14  [{'start': 0.0, 'end': 2.36, 'text': ' What's ...  \n",
       "55  [{'start': 0.0, 'text': ' Today on the channel...  \n",
       "62  [{'text': ' Back in the car, back when the oth...  \n",
       "43  [{'end': 4.64, 'id': 0, 'start': 0.0, 'text': ...  \n",
       "1   [{'start': 0.0, 'end': 3.36, 'text': ' I am sh...  \n",
       "69  [{'text': ' Big Cloud, it's out in the marker ...  \n",
       "77  [{'start': 0.0, 'end': 4.96, 'id': 0, 'text': ...  \n",
       "26  [{'id': 0, 'text': ' Two years ago, Mr. Beast ...  \n",
       "34  [{'id': 0, 'text': ' The Christie's auction fo...  "
      ]
     },
     "execution_count": 14,
     "metadata": {},
     "output_type": "execute_result"
    }
   ],
   "source": [
    "collection = getTranscripts('UCamLstJyCa-t5gfZegxsFMw')\n",
    "results = semantic_search_videos(\"create a list of 5 products / brands launched by creators?\", collection)\n",
    "results"
   ]
  },
  {
   "cell_type": "code",
   "execution_count": null,
   "metadata": {
    "id": "2zcLxd3cgKxS"
   },
   "outputs": [],
   "source": [
    "#results_2 = semantic_search_keyword(\"bitcoin\", collection)"
   ]
  }
 ],
 "metadata": {
  "colab": {
   "provenance": []
  },
  "kernelspec": {
   "display_name": "Python 3 (ipykernel)",
   "language": "python",
   "name": "python3"
  },
  "language_info": {
   "codemirror_mode": {
    "name": "ipython",
    "version": 3
   },
   "file_extension": ".py",
   "mimetype": "text/x-python",
   "name": "python",
   "nbconvert_exporter": "python",
   "pygments_lexer": "ipython3",
   "version": "3.11.4"
  }
 },
 "nbformat": 4,
 "nbformat_minor": 4
}
